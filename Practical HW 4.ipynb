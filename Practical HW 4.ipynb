{
 "cells": [
  {
   "cell_type": "markdown",
   "id": "c3e6186e-c347-4c14-8cab-9db3445dd128",
   "metadata": {},
   "source": [
    "PCA, Clustering learning methods"
   ]
  }
 ],
 "metadata": {
  "kernelspec": {
   "display_name": "Python 3 (ipykernel)",
   "language": "python",
   "name": "python3"
  },
  "language_info": {
   "codemirror_mode": {
    "name": "ipython",
    "version": 3
   },
   "file_extension": ".py",
   "mimetype": "text/x-python",
   "name": "python",
   "nbconvert_exporter": "python",
   "pygments_lexer": "ipython3",
   "version": "3.12.4"
  }
 },
 "nbformat": 4,
 "nbformat_minor": 5
}
