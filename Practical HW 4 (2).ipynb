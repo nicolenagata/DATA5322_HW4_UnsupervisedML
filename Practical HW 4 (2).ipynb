{
 "cells": [
  {
   "cell_type": "markdown",
   "id": "fc417374-b04f-4afb-9bca-a297d3aebec8",
   "metadata": {},
   "source": [
    "# Exploring GLobal Energy Use with Machine Learning Models"
   ]
  },
  {
   "cell_type": "code",
   "execution_count": 2,
   "id": "40274ee4-c488-4b7d-bc95-d799d5ecd3bd",
   "metadata": {},
   "outputs": [],
   "source": [
    "import pandas as pd\n",
    "import numpy as np\n",
    "import matplotlib.pyplot as plt\n",
    "import seaborn as sns\n",
    "from sklearn.preprocessing import StandardScaler\n",
    "from sklearn.decomposition import PCA, TruncatedSVD\n",
    "from sklearn.cluster import KMeans, AgglomerativeClustering\n",
    "from sklearn.experimental import enable_iterative_imputer\n",
    "from sklearn.impute import IterativeImputer\n",
    "from sklearn.metrics import silhouette_score, calinski_harabasz_score\n",
    "from scipy.cluster.hierarchy import dendrogram, linkage\n",
    "from scipy.spatial.distance import pdist\n",
    "scaler = StandardScaler()"
   ]
  },
  {
   "cell_type": "code",
   "execution_count": 3,
   "id": "8918470b-cdc1-4a4a-ac44-28e760b42d03",
   "metadata": {},
   "outputs": [],
   "source": [
    "np.random.seed(3799)"
   ]
  },
  {
   "cell_type": "code",
   "execution_count": 4,
   "id": "410da7df-7f4e-4605-b582-aaa92a4ec98f",
   "metadata": {},
   "outputs": [],
   "source": [
    "df = pd.read_csv('https://raw.githubusercontent.com/owid/energy-data/master/owid-energy-data.csv')"
   ]
  },
  {
   "cell_type": "code",
   "execution_count": 5,
   "id": "26899211-74b1-460e-b442-35ec54394f0a",
   "metadata": {},
   "outputs": [
    {
     "data": {
      "text/plain": [
       "(21812, 130)"
      ]
     },
     "execution_count": 5,
     "metadata": {},
     "output_type": "execute_result"
    }
   ],
   "source": [
    "# Check the amount of rows and features\n",
    "df.shape"
   ]
  },
  {
   "cell_type": "code",
   "execution_count": 6,
   "id": "aa2c1ab0-cbb4-463a-8664-f0944fc66e3c",
   "metadata": {},
   "outputs": [
    {
     "data": {
      "text/plain": [
       "iso_code                                         5000\n",
       "population                                       3365\n",
       "gdp                                             10037\n",
       "biofuel_cons_change_pct                         20006\n",
       "biofuel_cons_change_twh                         19016\n",
       "biofuel_cons_per_capita                         19412\n",
       "biofuel_consumption                             18936\n",
       "biofuel_elec_per_capita                         16242\n",
       "biofuel_electricity                             15978\n",
       "biofuel_share_elec                              16001\n",
       "biofuel_share_energy                            19034\n",
       "carbon_intensity_elec                           15977\n",
       "coal_cons_change_pct                            16516\n",
       "coal_cons_change_twh                            16398\n",
       "coal_cons_per_capita                            17060\n",
       "coal_consumption                                16293\n",
       "coal_elec_per_capita                            15718\n",
       "coal_electricity                                15103\n",
       "coal_prod_change_pct                            12155\n",
       "coal_prod_change_twh                             5519\n",
       "coal_prod_per_capita                             7049\n",
       "coal_production                                  5264\n",
       "coal_share_elec                                 15126\n",
       "coal_share_energy                               16933\n",
       "electricity_demand                              15949\n",
       "electricity_demand_per_capita                   16213\n",
       "electricity_generation                          14401\n",
       "electricity_share_energy                        17852\n",
       "energy_cons_change_pct                          10092\n",
       "energy_cons_change_twh                           9899\n",
       "energy_per_capita                               11120\n",
       "energy_per_gdp                                  14023\n",
       "fossil_cons_change_pct                          16859\n",
       "fossil_cons_change_twh                          16859\n",
       "fossil_elec_per_capita                          15699\n",
       "fossil_electricity                              15084\n",
       "fossil_energy_per_capita                        17514\n",
       "fossil_fuel_consumption                         16754\n",
       "fossil_share_elec                               15112\n",
       "fossil_share_energy                             16933\n",
       "gas_cons_change_pct                             16664\n",
       "gas_cons_change_twh                             16603\n",
       "gas_consumption                                 16499\n",
       "gas_elec_per_capita                             15814\n",
       "gas_electricity                                 15199\n",
       "gas_energy_per_capita                           17259\n",
       "gas_prod_change_pct                             14039\n",
       "gas_prod_change_twh                              5228\n",
       "gas_prod_per_capita                              6857\n",
       "gas_production                                   4973\n",
       "gas_share_elec                                  15222\n",
       "gas_share_energy                                16933\n",
       "greenhouse_gas_emissions                        15949\n",
       "hydro_cons_change_pct                           16672\n",
       "hydro_cons_change_twh                           16342\n",
       "hydro_consumption                               16237\n",
       "hydro_elec_per_capita                           13806\n",
       "hydro_electricity                               12775\n",
       "hydro_energy_per_capita                         17004\n",
       "hydro_share_elec                                14551\n",
       "hydro_share_energy                              16933\n",
       "low_carbon_cons_change_pct                      16610\n",
       "low_carbon_cons_change_twh                      16342\n",
       "low_carbon_consumption                          16237\n",
       "low_carbon_elec_per_capita                      14653\n",
       "low_carbon_electricity                          13815\n",
       "low_carbon_energy_per_capita                    17004\n",
       "low_carbon_share_elec                           14738\n",
       "low_carbon_share_energy                         16933\n",
       "net_elec_imports                                16237\n",
       "net_elec_imports_share_demand                   16265\n",
       "nuclear_cons_change_pct                         19330\n",
       "nuclear_cons_change_twh                         14977\n",
       "nuclear_consumption                             14838\n",
       "nuclear_elec_per_capita                         13056\n",
       "nuclear_electricity                             12131\n",
       "nuclear_energy_per_capita                       15499\n",
       "nuclear_share_elec                              14610\n",
       "nuclear_share_energy                            17071\n",
       "oil_cons_change_pct                             16102\n",
       "oil_cons_change_twh                             16102\n",
       "oil_consumption                                 15998\n",
       "oil_elec_per_capita                             15779\n",
       "oil_electricity                                 15164\n",
       "oil_energy_per_capita                           16765\n",
       "oil_prod_change_pct                             12020\n",
       "oil_prod_change_twh                              4589\n",
       "oil_prod_per_capita                              6379\n",
       "oil_production                                   4332\n",
       "oil_share_elec                                  15187\n",
       "oil_share_energy                                16933\n",
       "other_renewable_consumption                     16733\n",
       "other_renewable_electricity                     13387\n",
       "other_renewable_exc_biofuel_electricity         16542\n",
       "other_renewables_cons_change_pct                18171\n",
       "other_renewables_cons_change_twh                16838\n",
       "other_renewables_elec_per_capita                14349\n",
       "other_renewables_elec_per_capita_exc_biofuel    16806\n",
       "other_renewables_energy_per_capita              17431\n",
       "other_renewables_share_elec                     14619\n",
       "other_renewables_share_elec_exc_biofuel         16565\n",
       "other_renewables_share_energy                   17412\n",
       "per_capita_electricity                          15172\n",
       "primary_energy_consumption                       9634\n",
       "renewables_cons_change_pct                      16617\n",
       "renewables_cons_change_twh                      16342\n",
       "renewables_consumption                          16237\n",
       "renewables_elec_per_capita                      14653\n",
       "renewables_electricity                          13703\n",
       "renewables_energy_per_capita                    17004\n",
       "renewables_share_elec                           14660\n",
       "renewables_share_energy                         16933\n",
       "solar_cons_change_pct                           19581\n",
       "solar_cons_change_twh                           17134\n",
       "solar_consumption                               17028\n",
       "solar_elec_per_capita                           14560\n",
       "solar_electricity                               13610\n",
       "solar_energy_per_capita                         17714\n",
       "solar_share_elec                                14629\n",
       "solar_share_energy                              17685\n",
       "wind_cons_change_pct                            19304\n",
       "wind_cons_change_twh                            17072\n",
       "wind_consumption                                16967\n",
       "wind_elec_per_capita                            14534\n",
       "wind_electricity                                13578\n",
       "wind_energy_per_capita                          17659\n",
       "wind_share_elec                                 14615\n",
       "wind_share_energy                               17619\n",
       "dtype: int64"
      ]
     },
     "execution_count": 6,
     "metadata": {},
     "output_type": "execute_result"
    }
   ],
   "source": [
    "# Check how many nans there are in the columns\n",
    "pd.set_option('display.max_rows', None)\n",
    "df.isna().sum()[df.isna().sum() > 0]"
   ]
  },
  {
   "cell_type": "markdown",
   "id": "19f4c21c-a879-4d65-b158-de19ab0f1f79",
   "metadata": {},
   "source": [
    "There are an overwhelmingly large amount of NaNs in this dataset. I need a way to focus on the data that showcases a complete view of the data, i.e., something that has a lot of data present. I will attempt to solve this by calculating the percentages of NaNs by each country to determine if there are any countries containing a low amount of NaNs. I want this because imputing or utilizing methods to fill in NaNs to select my desired countries could result in an unrepresentative dataset, so it is best to work with the countries that are most complete."
   ]
  },
  {
   "cell_type": "code",
   "execution_count": 8,
   "id": "35c7eff3-f38a-449b-81ac-aed1c297c11d",
   "metadata": {},
   "outputs": [],
   "source": [
    "# reset the display to not show all rows\n",
    "pd.reset_option('display.max_rows')"
   ]
  },
  {
   "cell_type": "code",
   "execution_count": 9,
   "id": "a711f11c-4eaf-4f27-8c8c-a39d126d4d5f",
   "metadata": {},
   "outputs": [
    {
     "name": "stdout",
     "output_type": "stream",
     "text": [
      "country\n",
      "Croatia     7.081448\n",
      "Slovenia    4.954751\n",
      "Name: nan_percent, dtype: float64\n"
     ]
    }
   ],
   "source": [
    "# calculate the percentage of NaNs present in each row\n",
    "df_copy = df.copy()\n",
    "df_copy['nan_percent'] = df_copy.isna().mean(axis=1) * 100\n",
    "\n",
    "# group by country and derive the mean of the NaN percentage to find the country with the lowest amount of NaNs\n",
    "mean_nan_percent_by_country = df_copy.groupby('country')['nan_percent'].mean()\n",
    "\n",
    "# selecting for countries that have their data with less than 10% of NaNs\n",
    "print(mean_nan_percent_by_country[mean_nan_percent_by_country < 10])"
   ]
  },
  {
   "cell_type": "markdown",
   "id": "f785441f-6417-4301-b8b4-3e6f11836a68",
   "metadata": {},
   "source": [
    "The criteria of less than 10% of NaNs shows that there are only two countries present that are able to be worked with. We will use these specific countries for our purposes. Now, we will clean the rest of the NaNs in these countries since utilizing particular unsupervised learning methods requires no NaNs to be present."
   ]
  },
  {
   "cell_type": "code",
   "execution_count": 11,
   "id": "7a89c893-c6fe-4e7b-80bf-94e2ade11f97",
   "metadata": {},
   "outputs": [],
   "source": [
    "croatia = df[df['country'] == 'Croatia']"
   ]
  },
  {
   "cell_type": "code",
   "execution_count": 12,
   "id": "258bab22-7458-41dd-b40c-90a05115080e",
   "metadata": {},
   "outputs": [
    {
     "data": {
      "text/plain": [
       "gdp                                  1\n",
       "biofuel_cons_change_pct             19\n",
       "biofuel_cons_change_twh             18\n",
       "biofuel_cons_per_capita             17\n",
       "biofuel_consumption                 17\n",
       "biofuel_share_energy                17\n",
       "coal_cons_change_pct                 1\n",
       "coal_cons_change_twh                 1\n",
       "coal_prod_change_pct                26\n",
       "coal_prod_change_twh                10\n",
       "coal_prod_per_capita                 9\n",
       "coal_production                      9\n",
       "energy_cons_change_pct               1\n",
       "energy_cons_change_twh               1\n",
       "energy_per_gdp                       1\n",
       "fossil_cons_change_pct               1\n",
       "fossil_cons_change_twh               1\n",
       "gas_cons_change_pct                  1\n",
       "gas_cons_change_twh                  1\n",
       "gas_prod_change_pct                 10\n",
       "gas_prod_change_twh                 10\n",
       "gas_prod_per_capita                  9\n",
       "gas_production                       9\n",
       "hydro_cons_change_pct                1\n",
       "hydro_cons_change_twh                1\n",
       "low_carbon_cons_change_pct           1\n",
       "low_carbon_cons_change_twh           1\n",
       "nuclear_cons_change_pct             34\n",
       "nuclear_cons_change_twh              1\n",
       "oil_cons_change_pct                  1\n",
       "oil_cons_change_twh                  1\n",
       "oil_prod_change_pct                 10\n",
       "oil_prod_change_twh                 10\n",
       "oil_prod_per_capita                  9\n",
       "oil_production                       9\n",
       "other_renewables_cons_change_pct     4\n",
       "other_renewables_cons_change_twh     1\n",
       "renewables_cons_change_pct           1\n",
       "renewables_cons_change_twh           1\n",
       "solar_cons_change_pct               20\n",
       "solar_cons_change_twh                1\n",
       "wind_cons_change_pct                15\n",
       "wind_cons_change_twh                 1\n",
       "dtype: int64"
      ]
     },
     "execution_count": 12,
     "metadata": {},
     "output_type": "execute_result"
    }
   ],
   "source": [
    "# determine the columns containing NaNs\n",
    "croatia_nans = croatia.isna().sum()[croatia.isna().sum() > 0]\n",
    "croatia_nans"
   ]
  },
  {
   "cell_type": "code",
   "execution_count": 13,
   "id": "02d77710-7be1-4a44-970a-e88fd3b1c0bd",
   "metadata": {},
   "outputs": [
    {
     "data": {
      "text/plain": [
       "(34, 130)"
      ]
     },
     "execution_count": 13,
     "metadata": {},
     "output_type": "execute_result"
    }
   ],
   "source": [
    "# Check for rows because we require columns with NaNs that aren't a large proportion of the rows\n",
    "croatia.shape"
   ]
  },
  {
   "cell_type": "code",
   "execution_count": 14,
   "id": "8eec6975-9e6b-45f4-87be-31249d1a6383",
   "metadata": {},
   "outputs": [],
   "source": [
    "# remove the columns that contain more than one NaN\n",
    "croatia_no_nans = croatia.loc[:, croatia.isna().sum() <= 1].copy()"
   ]
  },
  {
   "cell_type": "code",
   "execution_count": 15,
   "id": "60463d77-153d-4a77-82a1-e7a61f50577c",
   "metadata": {},
   "outputs": [
    {
     "data": {
      "text/plain": [
       "{'gdp': [5040],\n",
       " 'coal_cons_change_pct': [5007],\n",
       " 'coal_cons_change_twh': [5007],\n",
       " 'energy_cons_change_pct': [5007],\n",
       " 'energy_cons_change_twh': [5007],\n",
       " 'energy_per_gdp': [5040],\n",
       " 'fossil_cons_change_pct': [5007],\n",
       " 'fossil_cons_change_twh': [5007],\n",
       " 'gas_cons_change_pct': [5007],\n",
       " 'gas_cons_change_twh': [5007],\n",
       " 'hydro_cons_change_pct': [5007],\n",
       " 'hydro_cons_change_twh': [5007],\n",
       " 'low_carbon_cons_change_pct': [5007],\n",
       " 'low_carbon_cons_change_twh': [5007],\n",
       " 'nuclear_cons_change_twh': [5007],\n",
       " 'oil_cons_change_pct': [5007],\n",
       " 'oil_cons_change_twh': [5007],\n",
       " 'other_renewables_cons_change_twh': [5007],\n",
       " 'renewables_cons_change_pct': [5007],\n",
       " 'renewables_cons_change_twh': [5007],\n",
       " 'solar_cons_change_twh': [5007],\n",
       " 'wind_cons_change_twh': [5007]}"
      ]
     },
     "execution_count": 15,
     "metadata": {},
     "output_type": "execute_result"
    }
   ],
   "source": [
    "# need to find out where the remainder of the NaNs are to determine how they should be removed or imputed\n",
    "remainder = croatia_no_nans.isna().sum()[croatia_no_nans.isna().sum() > 0]\n",
    "croatia_nan_idxs = {col: croatia_no_nans.index[croatia_no_nans[col].isna()].tolist() for col in remainder.index}\n",
    "croatia_nan_idxs"
   ]
  },
  {
   "cell_type": "markdown",
   "id": "6575aae5-2cc0-4733-9f0d-fe7b15d88806",
   "metadata": {},
   "source": [
    "Clearly, the 5007th index is empty, so we can be confident to drop that. Also, the 5040th index has a couple of missing value, which we will drop too."
   ]
  },
  {
   "cell_type": "code",
   "execution_count": 17,
   "id": "7a568e64-99d6-41f6-869f-a52af337c87b",
   "metadata": {},
   "outputs": [],
   "source": [
    "# drop the 5040th and 5007th indices\n",
    "croatia_no_nans.drop([5040, 5007], inplace=True)"
   ]
  },
  {
   "cell_type": "code",
   "execution_count": 18,
   "id": "f0051444-c0a8-4b58-821e-4d919e74168d",
   "metadata": {},
   "outputs": [
    {
     "data": {
      "text/plain": [
       "Series([], dtype: int64)"
      ]
     },
     "execution_count": 18,
     "metadata": {},
     "output_type": "execute_result"
    }
   ],
   "source": [
    "# double check that there are no more NaNs\n",
    "croatia_no_nans.isna().sum()[croatia_no_nans.isna().sum() > 0]"
   ]
  },
  {
   "cell_type": "code",
   "execution_count": 19,
   "id": "d9ab5a9a-3c3b-42d2-86a5-122769a402d1",
   "metadata": {},
   "outputs": [],
   "source": [
    "# Set up slovenia to be cleaned\n",
    "slovenia = df[df['country'] == 'Croatia']"
   ]
  },
  {
   "cell_type": "code",
   "execution_count": 20,
   "id": "9c693e9e-4a31-4e5d-a956-fe197cb2eed3",
   "metadata": {},
   "outputs": [
    {
     "data": {
      "text/plain": [
       "gdp                                  1\n",
       "biofuel_cons_change_pct             19\n",
       "biofuel_cons_change_twh             18\n",
       "biofuel_cons_per_capita             17\n",
       "biofuel_consumption                 17\n",
       "biofuel_share_energy                17\n",
       "coal_cons_change_pct                 1\n",
       "coal_cons_change_twh                 1\n",
       "coal_prod_change_pct                26\n",
       "coal_prod_change_twh                10\n",
       "coal_prod_per_capita                 9\n",
       "coal_production                      9\n",
       "energy_cons_change_pct               1\n",
       "energy_cons_change_twh               1\n",
       "energy_per_gdp                       1\n",
       "fossil_cons_change_pct               1\n",
       "fossil_cons_change_twh               1\n",
       "gas_cons_change_pct                  1\n",
       "gas_cons_change_twh                  1\n",
       "gas_prod_change_pct                 10\n",
       "gas_prod_change_twh                 10\n",
       "gas_prod_per_capita                  9\n",
       "gas_production                       9\n",
       "hydro_cons_change_pct                1\n",
       "hydro_cons_change_twh                1\n",
       "low_carbon_cons_change_pct           1\n",
       "low_carbon_cons_change_twh           1\n",
       "nuclear_cons_change_pct             34\n",
       "nuclear_cons_change_twh              1\n",
       "oil_cons_change_pct                  1\n",
       "oil_cons_change_twh                  1\n",
       "oil_prod_change_pct                 10\n",
       "oil_prod_change_twh                 10\n",
       "oil_prod_per_capita                  9\n",
       "oil_production                       9\n",
       "other_renewables_cons_change_pct     4\n",
       "other_renewables_cons_change_twh     1\n",
       "renewables_cons_change_pct           1\n",
       "renewables_cons_change_twh           1\n",
       "solar_cons_change_pct               20\n",
       "solar_cons_change_twh                1\n",
       "wind_cons_change_pct                15\n",
       "wind_cons_change_twh                 1\n",
       "dtype: int64"
      ]
     },
     "execution_count": 20,
     "metadata": {},
     "output_type": "execute_result"
    }
   ],
   "source": [
    "# determine the columns containing NaNs\n",
    "slovenia_nans = slovenia.isna().sum()[slovenia.isna().sum() > 0]\n",
    "slovenia_nans"
   ]
  },
  {
   "cell_type": "code",
   "execution_count": 21,
   "id": "c4f5de4c-9ffc-4a73-b615-93b8f3a0657d",
   "metadata": {},
   "outputs": [
    {
     "data": {
      "text/plain": [
       "(34, 130)"
      ]
     },
     "execution_count": 21,
     "metadata": {},
     "output_type": "execute_result"
    }
   ],
   "source": [
    "# Check for rows because we require columns with NaNs that aren't a large proportion of the rows\n",
    "slovenia.shape"
   ]
  },
  {
   "cell_type": "code",
   "execution_count": 22,
   "id": "b320b37a-74c1-4f8f-8f60-2aec19ef257a",
   "metadata": {},
   "outputs": [],
   "source": [
    "# remove the columns that contain more than one NaN\n",
    "slovenia_no_nans = slovenia.loc[:, slovenia.isna().sum() <= 1].copy()"
   ]
  },
  {
   "cell_type": "code",
   "execution_count": 23,
   "id": "dfb692de-e30c-4caa-957b-1c60f13e7524",
   "metadata": {},
   "outputs": [
    {
     "data": {
      "text/plain": [
       "{'gdp': [5040],\n",
       " 'coal_cons_change_pct': [5007],\n",
       " 'coal_cons_change_twh': [5007],\n",
       " 'energy_cons_change_pct': [5007],\n",
       " 'energy_cons_change_twh': [5007],\n",
       " 'energy_per_gdp': [5040],\n",
       " 'fossil_cons_change_pct': [5007],\n",
       " 'fossil_cons_change_twh': [5007],\n",
       " 'gas_cons_change_pct': [5007],\n",
       " 'gas_cons_change_twh': [5007],\n",
       " 'hydro_cons_change_pct': [5007],\n",
       " 'hydro_cons_change_twh': [5007],\n",
       " 'low_carbon_cons_change_pct': [5007],\n",
       " 'low_carbon_cons_change_twh': [5007],\n",
       " 'nuclear_cons_change_twh': [5007],\n",
       " 'oil_cons_change_pct': [5007],\n",
       " 'oil_cons_change_twh': [5007],\n",
       " 'other_renewables_cons_change_twh': [5007],\n",
       " 'renewables_cons_change_pct': [5007],\n",
       " 'renewables_cons_change_twh': [5007],\n",
       " 'solar_cons_change_twh': [5007],\n",
       " 'wind_cons_change_twh': [5007]}"
      ]
     },
     "execution_count": 23,
     "metadata": {},
     "output_type": "execute_result"
    }
   ],
   "source": [
    "# need to find out where the remainder of the NaNs are to determine how they should be removed or imputed\n",
    "remainder_slov = slovenia_no_nans.isna().sum()[slovenia_no_nans.isna().sum() > 0]\n",
    "slovenia_nan_idxs = {col: slovenia_no_nans.index[slovenia_no_nans[col].isna()].tolist() for col in remainder_slov.index}\n",
    "slovenia_nan_idxs"
   ]
  },
  {
   "cell_type": "markdown",
   "id": "1d02d378-b843-4d03-9e91-d6beef689fba",
   "metadata": {},
   "source": [
    "Luckily, the Slovenia data is showing the same missed values that Croatia has, which helps us for comparison their countries for our models."
   ]
  },
  {
   "cell_type": "code",
   "execution_count": 25,
   "id": "f59d42bd-c94d-48e8-a07f-b46aea2e8d1d",
   "metadata": {},
   "outputs": [],
   "source": [
    "# drop the 5040th and 5007th indices\n",
    "slovenia_no_nans.drop([5040, 5007], inplace=True)"
   ]
  },
  {
   "cell_type": "code",
   "execution_count": 26,
   "id": "28560d43-d437-4633-86cd-b0111f1d3de7",
   "metadata": {},
   "outputs": [
    {
     "data": {
      "text/plain": [
       "Series([], dtype: int64)"
      ]
     },
     "execution_count": 26,
     "metadata": {},
     "output_type": "execute_result"
    }
   ],
   "source": [
    "# double check that there are no more NaNs\n",
    "slovenia_no_nans.isna().sum()[slovenia_no_nans.isna().sum() > 0]"
   ]
  },
  {
   "cell_type": "code",
   "execution_count": 27,
   "id": "4b8a9645-a6af-4e51-b8f1-207791978271",
   "metadata": {},
   "outputs": [],
   "source": [
    "# assign the variables back to workable names for efficiency\n",
    "slovenia_df = slovenia_no_nans\n",
    "croatia_df = croatia_no_nans"
   ]
  },
  {
   "cell_type": "code",
   "execution_count": 29,
   "id": "c1a3b5d9-d337-4ce4-80ad-141115530458",
   "metadata": {},
   "outputs": [],
   "source": [
    "# check for correlations between remaining columns\n",
    "df_corr_croatia = croatia_df.drop(['year', 'country', 'iso_code'], axis =1).copy()\n",
    "df_corr_slovenia = slovenia_df.drop(['year', 'country', 'iso_code'], axis =1).copy()"
   ]
  },
  {
   "cell_type": "code",
   "execution_count": null,
   "id": "4bebc53a-f4e9-4b86-a394-98916c11037c",
   "metadata": {},
   "outputs": [],
   "source": []
  },
  {
   "cell_type": "code",
   "execution_count": 84,
   "id": "7c0685d8-5963-4523-9055-a5503e1dfa2c",
   "metadata": {},
   "outputs": [],
   "source": [
    "\n",
    "consumption_columns_croatia = [col for col in df_corr_croatia.columns if 'consumption' in col]\n",
    "consumption_columns_slovenia = [col for col in df_corr_slovenia.columns if 'consumption' in col]"
   ]
  },
  {
   "cell_type": "code",
   "execution_count": 86,
   "id": "1ee85d25-36bf-4615-87f6-1ae1aec49445",
   "metadata": {},
   "outputs": [],
   "source": [
    "croatia_consumption = df_corr_croatia[consumption_columns_croatia]\n",
    "slovenia_consumption = df_corr_slovenia[consumption_columns_slovenia]"
   ]
  },
  {
   "cell_type": "code",
   "execution_count": 92,
   "id": "a97df0f6-3401-433c-9be1-5f8caeb8d5e9",
   "metadata": {},
   "outputs": [],
   "source": [
    "years_croatia = croatia_df['year']\n",
    "years_slovenia = slovenia_df['year']"
   ]
  },
  {
   "cell_type": "code",
   "execution_count": 94,
   "id": "9bf00f3d-d0d1-450b-a1d4-5dd152726bee",
   "metadata": {},
   "outputs": [],
   "source": [
    "croatia_scaled = StandardScaler().fit_transform(croatia_consumption)\n",
    "slovenia_scaled = StandardScaler().fit_transform(slovenia_consumption)"
   ]
  },
  {
   "cell_type": "code",
   "execution_count": 104,
   "id": "a4af0b26-3001-460c-88b6-964b09c1d4d7",
   "metadata": {},
   "outputs": [],
   "source": [
    "croatia_dfscaled = pd.DataFrame(croatia_scaled, columns=croatia_consumption.columns, index=years_croatia.values)\n",
    "slovenia_dfscaled = pd.DataFrame(slovenia_scaled, columns=slovenia_consumption.columns, index=years_slovenia.values)"
   ]
  },
  {
   "cell_type": "code",
   "execution_count": null,
   "id": "06b485f8-662d-4834-9240-b38581f3ff80",
   "metadata": {},
   "outputs": [],
   "source": []
  },
  {
   "cell_type": "code",
   "execution_count": null,
   "id": "94745f1c-75aa-4ec3-9506-39367c481a73",
   "metadata": {},
   "outputs": [],
   "source": []
  },
  {
   "cell_type": "code",
   "execution_count": 74,
   "id": "ea0553bf-40e1-473c-8d0f-a4ff66376c62",
   "metadata": {},
   "outputs": [
    {
     "name": "stdout",
     "output_type": "stream",
     "text": [
      "                                            Column1  \\\n",
      "215                         biofuel_elec_per_capita   \n",
      "216                         biofuel_elec_per_capita   \n",
      "284                         biofuel_elec_per_capita   \n",
      "285                         biofuel_elec_per_capita   \n",
      "288                         biofuel_elec_per_capita   \n",
      "290                         biofuel_elec_per_capita   \n",
      "291                         biofuel_elec_per_capita   \n",
      "293                         biofuel_elec_per_capita   \n",
      "320                             biofuel_electricity   \n",
      "322                             biofuel_electricity   \n",
      "390                             biofuel_electricity   \n",
      "391                             biofuel_electricity   \n",
      "394                             biofuel_electricity   \n",
      "396                             biofuel_electricity   \n",
      "397                             biofuel_electricity   \n",
      "399                             biofuel_electricity   \n",
      "426                              biofuel_share_elec   \n",
      "427                              biofuel_share_elec   \n",
      "496                              biofuel_share_elec   \n",
      "497                              biofuel_share_elec   \n",
      "500                              biofuel_share_elec   \n",
      "502                              biofuel_share_elec   \n",
      "503                              biofuel_share_elec   \n",
      "505                              biofuel_share_elec   \n",
      "857                            coal_cons_per_capita   \n",
      "962                                coal_consumption   \n",
      "1071                           coal_elec_per_capita   \n",
      "1176                               coal_electricity   \n",
      "1499                             electricity_demand   \n",
      "1604                  electricity_demand_per_capita   \n",
      "1927                         energy_cons_change_pct   \n",
      "2032                         energy_cons_change_twh   \n",
      "2355                         fossil_cons_change_pct   \n",
      "2460                         fossil_cons_change_twh   \n",
      "3021                              fossil_share_elec   \n",
      "3058                              fossil_share_elec   \n",
      "3128                            fossil_share_energy   \n",
      "3165                            fossil_share_energy   \n",
      "3211                            gas_cons_change_pct   \n",
      "3316                            gas_cons_change_twh   \n",
      "3532                            gas_elec_per_capita   \n",
      "3637                                gas_electricity   \n",
      "4181                          hydro_cons_change_pct   \n",
      "4218                          hydro_cons_change_pct   \n",
      "4288                          hydro_cons_change_twh   \n",
      "4325                          hydro_cons_change_twh   \n",
      "4602                              hydro_electricity   \n",
      "4707                        hydro_energy_per_capita   \n",
      "5021                     low_carbon_cons_change_pct   \n",
      "5066                     low_carbon_cons_change_pct   \n",
      "5128                     low_carbon_cons_change_twh   \n",
      "5173                     low_carbon_cons_change_twh   \n",
      "5245                         low_carbon_consumption   \n",
      "5280                         low_carbon_consumption   \n",
      "5282                         low_carbon_consumption   \n",
      "5351                     low_carbon_elec_per_capita   \n",
      "5352                     low_carbon_elec_per_capita   \n",
      "5387                     low_carbon_elec_per_capita   \n",
      "5388                     low_carbon_elec_per_capita   \n",
      "5389                     low_carbon_elec_per_capita   \n",
      "5455                         low_carbon_electricity   \n",
      "5456                         low_carbon_electricity   \n",
      "5458                         low_carbon_electricity   \n",
      "5492                         low_carbon_electricity   \n",
      "5493                         low_carbon_electricity   \n",
      "5494                         low_carbon_electricity   \n",
      "5495                         low_carbon_electricity   \n",
      "5562                   low_carbon_energy_per_capita   \n",
      "5563                   low_carbon_energy_per_capita   \n",
      "5599                   low_carbon_energy_per_capita   \n",
      "5600                   low_carbon_energy_per_capita   \n",
      "5601                   low_carbon_energy_per_capita   \n",
      "5646                          low_carbon_share_elec   \n",
      "5708                          low_carbon_share_elec   \n",
      "5753                        low_carbon_share_energy   \n",
      "5815                        low_carbon_share_energy   \n",
      "6849                            oil_cons_change_pct   \n",
      "6954                            oil_cons_change_twh   \n",
      "7170                            oil_elec_per_capita   \n",
      "7275                                oil_electricity   \n",
      "7634                    other_renewable_consumption   \n",
      "7635                    other_renewable_consumption   \n",
      "7636                    other_renewable_consumption   \n",
      "7705                    other_renewable_consumption   \n",
      "7708                    other_renewable_consumption   \n",
      "7710                    other_renewable_consumption   \n",
      "7711                    other_renewable_consumption   \n",
      "7713                    other_renewable_consumption   \n",
      "7740                    other_renewable_electricity   \n",
      "7741                    other_renewable_electricity   \n",
      "7742                    other_renewable_electricity   \n",
      "7810                    other_renewable_electricity   \n",
      "7814                    other_renewable_electricity   \n",
      "7816                    other_renewable_electricity   \n",
      "7817                    other_renewable_electricity   \n",
      "7819                    other_renewable_electricity   \n",
      "7921        other_renewable_exc_biofuel_electricity   \n",
      "7924        other_renewable_exc_biofuel_electricity   \n",
      "8058               other_renewables_elec_per_capita   \n",
      "8059               other_renewables_elec_per_capita   \n",
      "8060               other_renewables_elec_per_capita   \n",
      "8128               other_renewables_elec_per_capita   \n",
      "8129               other_renewables_elec_per_capita   \n",
      "8134               other_renewables_elec_per_capita   \n",
      "8135               other_renewables_elec_per_capita   \n",
      "8137               other_renewables_elec_per_capita   \n",
      "8236   other_renewables_elec_per_capita_exc_biofuel   \n",
      "8242   other_renewables_elec_per_capita_exc_biofuel   \n",
      "8270             other_renewables_energy_per_capita   \n",
      "8271             other_renewables_energy_per_capita   \n",
      "8272             other_renewables_energy_per_capita   \n",
      "8340             other_renewables_energy_per_capita   \n",
      "8341             other_renewables_energy_per_capita   \n",
      "8344             other_renewables_energy_per_capita   \n",
      "8347             other_renewables_energy_per_capita   \n",
      "8349             other_renewables_energy_per_capita   \n",
      "8376                    other_renewables_share_elec   \n",
      "8377                    other_renewables_share_elec   \n",
      "8378                    other_renewables_share_elec   \n",
      "8446                    other_renewables_share_elec   \n",
      "8447                    other_renewables_share_elec   \n",
      "8450                    other_renewables_share_elec   \n",
      "8452                    other_renewables_share_elec   \n",
      "8455                    other_renewables_share_elec   \n",
      "8554        other_renewables_share_elec_exc_biofuel   \n",
      "8557        other_renewables_share_elec_exc_biofuel   \n",
      "8588                  other_renewables_share_energy   \n",
      "8589                  other_renewables_share_energy   \n",
      "8590                  other_renewables_share_energy   \n",
      "8658                  other_renewables_share_energy   \n",
      "8659                  other_renewables_share_energy   \n",
      "8662                  other_renewables_share_energy   \n",
      "8664                  other_renewables_share_energy   \n",
      "8665                  other_renewables_share_energy   \n",
      "8943                     renewables_cons_change_pct   \n",
      "8951                     renewables_cons_change_pct   \n",
      "9050                     renewables_cons_change_twh   \n",
      "9058                     renewables_cons_change_twh   \n",
      "9165                         renewables_consumption   \n",
      "9167                         renewables_consumption   \n",
      "9204                         renewables_consumption   \n",
      "9272                     renewables_elec_per_capita   \n",
      "9273                     renewables_elec_per_capita   \n",
      "9274                     renewables_elec_per_capita   \n",
      "9310                     renewables_elec_per_capita   \n",
      "9311                     renewables_elec_per_capita   \n",
      "9377                         renewables_electricity   \n",
      "9378                         renewables_electricity   \n",
      "9379                         renewables_electricity   \n",
      "9380                         renewables_electricity   \n",
      "9414                         renewables_electricity   \n",
      "9415                         renewables_electricity   \n",
      "9417                         renewables_electricity   \n",
      "9484                   renewables_energy_per_capita   \n",
      "9485                   renewables_energy_per_capita   \n",
      "9486                   renewables_energy_per_capita   \n",
      "9521                   renewables_energy_per_capita   \n",
      "9522                   renewables_energy_per_capita   \n",
      "9568                          renewables_share_elec   \n",
      "9593                          renewables_share_elec   \n",
      "9675                        renewables_share_energy   \n",
      "9700                        renewables_share_energy   \n",
      "9952                              solar_consumption   \n",
      "9953                              solar_consumption   \n",
      "9954                              solar_consumption   \n",
      "9955                              solar_consumption   \n",
      "9956                              solar_consumption   \n",
      "10057                         solar_elec_per_capita   \n",
      "10059                         solar_elec_per_capita   \n",
      "10060                         solar_elec_per_capita   \n",
      "10061                         solar_elec_per_capita   \n",
      "10062                         solar_elec_per_capita   \n",
      "10163                             solar_electricity   \n",
      "10164                             solar_electricity   \n",
      "10166                             solar_electricity   \n",
      "10167                             solar_electricity   \n",
      "10168                             solar_electricity   \n",
      "10269                       solar_energy_per_capita   \n",
      "10270                       solar_energy_per_capita   \n",
      "10271                       solar_energy_per_capita   \n",
      "10273                       solar_energy_per_capita   \n",
      "10274                       solar_energy_per_capita   \n",
      "10375                              solar_share_elec   \n",
      "10376                              solar_share_elec   \n",
      "10377                              solar_share_elec   \n",
      "10378                              solar_share_elec   \n",
      "10380                              solar_share_elec   \n",
      "10481                            solar_share_energy   \n",
      "10482                            solar_share_energy   \n",
      "10483                            solar_share_energy   \n",
      "10484                            solar_share_energy   \n",
      "10485                            solar_share_energy   \n",
      "10701                              wind_consumption   \n",
      "10702                              wind_consumption   \n",
      "10703                              wind_consumption   \n",
      "10704                              wind_consumption   \n",
      "10705                              wind_consumption   \n",
      "10806                          wind_elec_per_capita   \n",
      "10808                          wind_elec_per_capita   \n",
      "10809                          wind_elec_per_capita   \n",
      "10810                          wind_elec_per_capita   \n",
      "10811                          wind_elec_per_capita   \n",
      "10912                              wind_electricity   \n",
      "10913                              wind_electricity   \n",
      "10915                              wind_electricity   \n",
      "10916                              wind_electricity   \n",
      "10917                              wind_electricity   \n",
      "11018                        wind_energy_per_capita   \n",
      "11019                        wind_energy_per_capita   \n",
      "11020                        wind_energy_per_capita   \n",
      "11022                        wind_energy_per_capita   \n",
      "11023                        wind_energy_per_capita   \n",
      "11124                               wind_share_elec   \n",
      "11125                               wind_share_elec   \n",
      "11126                               wind_share_elec   \n",
      "11127                               wind_share_elec   \n",
      "11129                               wind_share_elec   \n",
      "11230                             wind_share_energy   \n",
      "11231                             wind_share_energy   \n",
      "11232                             wind_share_energy   \n",
      "11233                             wind_share_energy   \n",
      "11234                             wind_share_energy   \n",
      "\n",
      "                                            Column2  Correlation  \n",
      "215                             biofuel_electricity     0.999875  \n",
      "216                              biofuel_share_elec     0.994829  \n",
      "284                     other_renewable_consumption     0.999623  \n",
      "285                     other_renewable_electricity     0.999476  \n",
      "288                other_renewables_elec_per_capita     0.999340  \n",
      "290              other_renewables_energy_per_capita     0.999521  \n",
      "291                     other_renewables_share_elec     0.995293  \n",
      "293                   other_renewables_share_energy     0.999004  \n",
      "320                         biofuel_elec_per_capita     0.999875  \n",
      "322                              biofuel_share_elec     0.996038  \n",
      "390                     other_renewable_consumption     0.999501  \n",
      "391                     other_renewable_electricity     0.999312  \n",
      "394                other_renewables_elec_per_capita     0.998936  \n",
      "396              other_renewables_energy_per_capita     0.999157  \n",
      "397                     other_renewables_share_elec     0.996184  \n",
      "399                   other_renewables_share_energy     0.998844  \n",
      "426                         biofuel_elec_per_capita     0.994829  \n",
      "427                             biofuel_electricity     0.996038  \n",
      "496                     other_renewable_consumption     0.994793  \n",
      "497                     other_renewable_electricity     0.994544  \n",
      "500                other_renewables_elec_per_capita     0.993117  \n",
      "502              other_renewables_energy_per_capita     0.993392  \n",
      "503                     other_renewables_share_elec     0.999203  \n",
      "505                   other_renewables_share_energy     0.995299  \n",
      "857                                coal_consumption     0.994782  \n",
      "962                            coal_cons_per_capita     0.994782  \n",
      "1071                               coal_electricity     0.998031  \n",
      "1176                           coal_elec_per_capita     0.998031  \n",
      "1499                  electricity_demand_per_capita     0.990833  \n",
      "1604                             electricity_demand     0.990833  \n",
      "1927                         energy_cons_change_twh     0.997632  \n",
      "2032                         energy_cons_change_pct     0.997632  \n",
      "2355                         fossil_cons_change_twh     0.996546  \n",
      "2460                         fossil_cons_change_pct     0.996546  \n",
      "3021                          low_carbon_share_elec    -1.000000  \n",
      "3058                          renewables_share_elec    -1.000000  \n",
      "3128                        low_carbon_share_energy    -1.000000  \n",
      "3165                        renewables_share_energy    -1.000000  \n",
      "3211                            gas_cons_change_twh     0.997562  \n",
      "3316                            gas_cons_change_pct     0.997562  \n",
      "3532                                gas_electricity     0.995207  \n",
      "3637                            gas_elec_per_capita     0.995207  \n",
      "4181                     low_carbon_cons_change_pct     0.992874  \n",
      "4218                     renewables_cons_change_pct     0.992874  \n",
      "4288                     low_carbon_cons_change_twh     0.994046  \n",
      "4325                     renewables_cons_change_twh     0.994046  \n",
      "4602                        hydro_energy_per_capita     0.996671  \n",
      "4707                              hydro_electricity     0.996671  \n",
      "5021                          hydro_cons_change_pct     0.992874  \n",
      "5066                     renewables_cons_change_pct     1.000000  \n",
      "5128                          hydro_cons_change_twh     0.994046  \n",
      "5173                     renewables_cons_change_twh     1.000000  \n",
      "5245                         low_carbon_electricity     0.992546  \n",
      "5280                         renewables_consumption     1.000000  \n",
      "5282                         renewables_electricity     0.992546  \n",
      "5351                         low_carbon_electricity     0.990076  \n",
      "5352                   low_carbon_energy_per_capita     0.995566  \n",
      "5387                     renewables_elec_per_capita     1.000000  \n",
      "5388                         renewables_electricity     0.990076  \n",
      "5389                   renewables_energy_per_capita     0.995566  \n",
      "5455                         low_carbon_consumption     0.992546  \n",
      "5456                     low_carbon_elec_per_capita     0.990076  \n",
      "5458                   low_carbon_energy_per_capita     0.995631  \n",
      "5492                         renewables_consumption     0.992546  \n",
      "5493                     renewables_elec_per_capita     0.990076  \n",
      "5494                         renewables_electricity     1.000000  \n",
      "5495                   renewables_energy_per_capita     0.995631  \n",
      "5562                     low_carbon_elec_per_capita     0.995566  \n",
      "5563                         low_carbon_electricity     0.995631  \n",
      "5599                     renewables_elec_per_capita     0.995566  \n",
      "5600                         renewables_electricity     0.995631  \n",
      "5601                   renewables_energy_per_capita     1.000000  \n",
      "5646                              fossil_share_elec    -1.000000  \n",
      "5708                          renewables_share_elec     1.000000  \n",
      "5753                            fossil_share_energy    -1.000000  \n",
      "5815                        renewables_share_energy     1.000000  \n",
      "6849                            oil_cons_change_twh     0.991963  \n",
      "6954                            oil_cons_change_pct     0.991963  \n",
      "7170                                oil_electricity     0.998595  \n",
      "7275                            oil_elec_per_capita     0.998595  \n",
      "7634                        biofuel_elec_per_capita     0.999623  \n",
      "7635                            biofuel_electricity     0.999501  \n",
      "7636                             biofuel_share_elec     0.994793  \n",
      "7705                    other_renewable_electricity     0.999957  \n",
      "7708               other_renewables_elec_per_capita     0.999806  \n",
      "7710             other_renewables_energy_per_capita     0.999883  \n",
      "7711                    other_renewables_share_elec     0.996172  \n",
      "7713                  other_renewables_share_energy     0.999472  \n",
      "7740                        biofuel_elec_per_capita     0.999476  \n",
      "7741                            biofuel_electricity     0.999312  \n",
      "7742                             biofuel_share_elec     0.994544  \n",
      "7810                    other_renewable_consumption     0.999957  \n",
      "7814               other_renewables_elec_per_capita     0.999885  \n",
      "7816             other_renewables_energy_per_capita     0.999881  \n",
      "7817                    other_renewables_share_elec     0.996167  \n",
      "7819                  other_renewables_share_energy     0.999451  \n",
      "7921   other_renewables_elec_per_capita_exc_biofuel     0.999957  \n",
      "7924        other_renewables_share_elec_exc_biofuel     0.997256  \n",
      "8058                        biofuel_elec_per_capita     0.999340  \n",
      "8059                            biofuel_electricity     0.998936  \n",
      "8060                             biofuel_share_elec     0.993117  \n",
      "8128                    other_renewable_consumption     0.999806  \n",
      "8129                    other_renewable_electricity     0.999885  \n",
      "8134             other_renewables_energy_per_capita     0.999961  \n",
      "8135                    other_renewables_share_elec     0.995027  \n",
      "8137                  other_renewables_share_energy     0.999333  \n",
      "8236        other_renewable_exc_biofuel_electricity     0.999957  \n",
      "8242        other_renewables_share_elec_exc_biofuel     0.996624  \n",
      "8270                        biofuel_elec_per_capita     0.999521  \n",
      "8271                            biofuel_electricity     0.999157  \n",
      "8272                             biofuel_share_elec     0.993392  \n",
      "8340                    other_renewable_consumption     0.999883  \n",
      "8341                    other_renewable_electricity     0.999881  \n",
      "8344               other_renewables_elec_per_capita     0.999961  \n",
      "8347                    other_renewables_share_elec     0.995067  \n",
      "8349                  other_renewables_share_energy     0.999390  \n",
      "8376                        biofuel_elec_per_capita     0.995293  \n",
      "8377                            biofuel_electricity     0.996184  \n",
      "8378                             biofuel_share_elec     0.999203  \n",
      "8446                    other_renewable_consumption     0.996172  \n",
      "8447                    other_renewable_electricity     0.996167  \n",
      "8450               other_renewables_elec_per_capita     0.995027  \n",
      "8452             other_renewables_energy_per_capita     0.995067  \n",
      "8455                  other_renewables_share_energy     0.996832  \n",
      "8554        other_renewable_exc_biofuel_electricity     0.997256  \n",
      "8557   other_renewables_elec_per_capita_exc_biofuel     0.996624  \n",
      "8588                        biofuel_elec_per_capita     0.999004  \n",
      "8589                            biofuel_electricity     0.998844  \n",
      "8590                             biofuel_share_elec     0.995299  \n",
      "8658                    other_renewable_consumption     0.999472  \n",
      "8659                    other_renewable_electricity     0.999451  \n",
      "8662               other_renewables_elec_per_capita     0.999333  \n",
      "8664             other_renewables_energy_per_capita     0.999390  \n",
      "8665                    other_renewables_share_elec     0.996832  \n",
      "8943                          hydro_cons_change_pct     0.992874  \n",
      "8951                     low_carbon_cons_change_pct     1.000000  \n",
      "9050                          hydro_cons_change_twh     0.994046  \n",
      "9058                     low_carbon_cons_change_twh     1.000000  \n",
      "9165                         low_carbon_consumption     1.000000  \n",
      "9167                         low_carbon_electricity     0.992546  \n",
      "9204                         renewables_electricity     0.992546  \n",
      "9272                     low_carbon_elec_per_capita     1.000000  \n",
      "9273                         low_carbon_electricity     0.990076  \n",
      "9274                   low_carbon_energy_per_capita     0.995566  \n",
      "9310                         renewables_electricity     0.990076  \n",
      "9311                   renewables_energy_per_capita     0.995566  \n",
      "9377                         low_carbon_consumption     0.992546  \n",
      "9378                     low_carbon_elec_per_capita     0.990076  \n",
      "9379                         low_carbon_electricity     1.000000  \n",
      "9380                   low_carbon_energy_per_capita     0.995631  \n",
      "9414                         renewables_consumption     0.992546  \n",
      "9415                     renewables_elec_per_capita     0.990076  \n",
      "9417                   renewables_energy_per_capita     0.995631  \n",
      "9484                     low_carbon_elec_per_capita     0.995566  \n",
      "9485                         low_carbon_electricity     0.995631  \n",
      "9486                   low_carbon_energy_per_capita     1.000000  \n",
      "9521                     renewables_elec_per_capita     0.995566  \n",
      "9522                         renewables_electricity     0.995631  \n",
      "9568                              fossil_share_elec    -1.000000  \n",
      "9593                          low_carbon_share_elec     1.000000  \n",
      "9675                            fossil_share_energy    -1.000000  \n",
      "9700                        low_carbon_share_energy     1.000000  \n",
      "9952                          solar_elec_per_capita     0.999151  \n",
      "9953                              solar_electricity     0.999197  \n",
      "9954                        solar_energy_per_capita     0.999829  \n",
      "9955                               solar_share_elec     0.993651  \n",
      "9956                             solar_share_energy     0.999505  \n",
      "10057                             solar_consumption     0.999151  \n",
      "10059                             solar_electricity     0.999807  \n",
      "10060                       solar_energy_per_capita     0.999241  \n",
      "10061                              solar_share_elec     0.992982  \n",
      "10062                            solar_share_energy     0.998983  \n",
      "10163                             solar_consumption     0.999197  \n",
      "10164                         solar_elec_per_capita     0.999807  \n",
      "10166                       solar_energy_per_capita     0.998927  \n",
      "10167                              solar_share_elec     0.994784  \n",
      "10168                            solar_share_energy     0.999073  \n",
      "10269                             solar_consumption     0.999829  \n",
      "10270                         solar_elec_per_capita     0.999241  \n",
      "10271                             solar_electricity     0.998927  \n",
      "10273                              solar_share_elec     0.991883  \n",
      "10274                            solar_share_energy     0.999306  \n",
      "10375                             solar_consumption     0.993651  \n",
      "10376                         solar_elec_per_capita     0.992982  \n",
      "10377                             solar_electricity     0.994784  \n",
      "10378                       solar_energy_per_capita     0.991883  \n",
      "10380                            solar_share_energy     0.995159  \n",
      "10481                             solar_consumption     0.999505  \n",
      "10482                         solar_elec_per_capita     0.998983  \n",
      "10483                             solar_electricity     0.999073  \n",
      "10484                       solar_energy_per_capita     0.999306  \n",
      "10485                              solar_share_elec     0.995159  \n",
      "10701                          wind_elec_per_capita     0.998317  \n",
      "10702                              wind_electricity     0.999184  \n",
      "10703                        wind_energy_per_capita     0.999778  \n",
      "10704                               wind_share_elec     0.996050  \n",
      "10705                             wind_share_energy     0.999431  \n",
      "10806                              wind_consumption     0.998317  \n",
      "10808                              wind_electricity     0.999786  \n",
      "10809                        wind_energy_per_capita     0.999180  \n",
      "10810                               wind_share_elec     0.993325  \n",
      "10811                             wind_share_energy     0.998145  \n",
      "10912                              wind_consumption     0.999184  \n",
      "10913                          wind_elec_per_capita     0.999786  \n",
      "10915                        wind_energy_per_capita     0.999611  \n",
      "10916                               wind_share_elec     0.995028  \n",
      "10917                             wind_share_energy     0.999001  \n",
      "11018                              wind_consumption     0.999778  \n",
      "11019                          wind_elec_per_capita     0.999180  \n",
      "11020                              wind_electricity     0.999611  \n",
      "11022                               wind_share_elec     0.994963  \n",
      "11023                             wind_share_energy     0.999213  \n",
      "11124                              wind_consumption     0.996050  \n",
      "11125                          wind_elec_per_capita     0.993325  \n",
      "11126                              wind_electricity     0.995028  \n",
      "11127                        wind_energy_per_capita     0.994963  \n",
      "11129                             wind_share_energy     0.997388  \n",
      "11230                              wind_consumption     0.999431  \n",
      "11231                          wind_elec_per_capita     0.998145  \n",
      "11232                              wind_electricity     0.999001  \n",
      "11233                        wind_energy_per_capita     0.999213  \n",
      "11234                               wind_share_elec     0.997388  \n"
     ]
    }
   ],
   "source": [
    "# print out the high correlations to see what columns are most descriptive \n",
    "pd.set_option('display.max_rows', None)\n",
    "pd.set_option('display.max_columns', None)\n",
    "corr = df_corr_croatia.corr()\n",
    "threshold = 0.99\n",
    "\n",
    "high_corr = (corr.unstack().reset_index().rename(columns={0: 'Correlation', 'level_0': 'Column1', 'level_1': 'Column2'}))\n",
    "high_corr = high_corr[high_corr['Column1'] != high_corr['Column2']]\n",
    "high_corr = high_corr[high_corr['Correlation'].abs() > threshold]\n",
    "\n",
    "print(high_corr)\n",
    "pd.reset_option('display.max_rows')"
   ]
  },
  {
   "cell_type": "code",
   "execution_count": null,
   "id": "8f68a52f-902a-4875-b80e-0c1f295fc0a8",
   "metadata": {},
   "outputs": [],
   "source": []
  },
  {
   "cell_type": "code",
   "execution_count": null,
   "id": "fbcfbbcd-8df9-45ff-a405-9a6d1a04ccca",
   "metadata": {},
   "outputs": [],
   "source": [
    "# Big overview variables\n",
    "core_variables = ['country', 'year', 'iso_code', 'gdp', 'population',\n",
    "    'primary_energy_consumption', 'energy_per_capita', 'energy_per_gdp',\n",
    "    'fossil_share_energy', 'renewables_share_energy', 'nuclear_share_energy',\n",
    "    'coal_share_energy', 'oil_share_energy', 'gas_share_energy',\n",
    "    'hydro_share_energy', 'solar_share_energy', 'wind_share_energy',\n",
    "    'electricity_generation', 'per_capita_electricity']\n",
    "\n",
    "# Energy transition, how is energy created\n",
    "transition_variables = ['country', 'year', 'gdp', 'population',\n",
    "    'primary_energy_consumption', 'energy_per_capita',\n",
    "    'fossil_share_energy', 'renewables_share_energy', 'nuclear_share_energy',\n",
    "    'solar_share_energy', 'wind_share_energy', 'hydro_share_energy',\n",
    "    'electricity_generation']\n",
    "\n",
    "# Climate impact, how is energy being used\n",
    "climate_variables = ['country', 'year', 'gdp', 'population',\n",
    "    'primary_energy_consumption', 'energy_per_capita',\n",
    "    'fossil_share_energy', 'renewables_share_energy']\n",
    "\n",
    "# Small dataset, perhaps to use for testing models\n",
    "minimal_variables = ['country', 'year', 'gdp', 'population',\n",
    "    'energy_per_capita', 'fossil_share_energy', 'renewables_share_energy']"
   ]
  },
  {
   "cell_type": "code",
   "execution_count": 172,
   "id": "bc16bf7f-c183-4fd6-b85d-4b0ba4d5500b",
   "metadata": {},
   "outputs": [],
   "source": [
    "def create_analysis_dataset(df, variables, year = None, year_range=None, \n",
    "                          min_completeness = 0.8):\n",
    "\n",
    "    analysis_df = df[variables].copy()\n",
    "    initial_shape = analysis_df.shape\n",
    "\n",
    "    # To select year or year range\n",
    "    if year is not None:\n",
    "        analysis_df = analysis_df[analysis_df['year'] == year]\n",
    "    elif year_range is not None:\n",
    "        start_year, end_year = year_range\n",
    "        analysis_df = analysis_df[\n",
    "            (analysis_df['year'] >= start_year) & \n",
    "            (analysis_df['year'] <= end_year)\n",
    "        ]\n",
    "\n",
    "    # Variables to exclude\n",
    "    if 'country' in variables:\n",
    "        regions_to_exclude = [\n",
    "            'World', 'Europe', 'Asia', 'Africa', 'North America', 'South America',\n",
    "            'European Union', 'OECD', 'G20', 'G7', 'High-income countries',\n",
    "            'Upper-middle-income countries', 'Lower-middle-income countries',\n",
    "            'Low-income countries', 'Asia Pacific', 'Middle East', 'Europe (other)',\n",
    "            'CIS', 'Other Caribbean', 'Other Middle East', 'Other Africa',\n",
    "            'Other Asia Pacific', 'Other Europe', 'Other South America']\n",
    "        \n",
    "        analysis_df = analysis_df[~analysis_df['country'].isin(regions_to_exclude)]\n",
    "    \n",
    "    numeric_cols = [col for col in variables if col not in ['country', 'year', 'iso_code']]\n",
    "    completeness_by_row = analysis_df[numeric_cols].notna().mean(axis = 1)\n",
    "    \n",
    "    complete_rows = completeness_by_row >= min_completeness\n",
    "    analysis_df = analysis_df[complete_rows]\n",
    "    removed_incomplete = (~complete_rows).sum()\n",
    "    \n",
    "    analysis_df = analysis_df.dropna() \n",
    "\n",
    "    return analysis_df"
   ]
  },
  {
   "cell_type": "code",
   "execution_count": 173,
   "id": "bc5cafcb-9bb4-4561-b5e0-f54e22167778",
   "metadata": {},
   "outputs": [],
   "source": [
    "ANALYSIS_YEAR = 2021\n",
    "\n",
    "datasets = {}\n",
    "\n",
    "datasets['core'] = create_analysis_dataset(\n",
    "    df, core_variables, year = ANALYSIS_YEAR, min_completeness = 0.7)\n",
    "\n",
    "datasets['transition'] = create_analysis_dataset(\n",
    "    df, transition_variables, year = ANALYSIS_YEAR, min_completeness = 0.8)\n",
    "\n",
    "datasets['climate'] = create_analysis_dataset(\n",
    "    df, climate_variables, year = ANALYSIS_YEAR, min_completeness = 0.9)\n",
    "\n",
    "datasets['minimal'] = create_analysis_dataset(\n",
    "    df, minimal_variables, year = ANALYSIS_YEAR, min_completeness = 0.95)\n"
   ]
  },
  {
   "cell_type": "code",
   "execution_count": 174,
   "id": "25490949-7bfe-4f42-b853-70e208430b02",
   "metadata": {},
   "outputs": [],
   "source": [
    "core_df = datasets['core']\n",
    "transition_df = datasets['transition']\n",
    "climate_df = datasets['climate']\n",
    "minimal_df = datasets['minimal']"
   ]
  },
  {
   "cell_type": "code",
   "execution_count": null,
   "id": "2d96c0d4-4a80-4f7f-93ea-a167bd2db23c",
   "metadata": {},
   "outputs": [],
   "source": [
    "# x_train, x_test, y_train, y_test = train_test_split(X, y, test_size = 0.25, random_state = 3799, stratify = y)"
   ]
  },
  {
   "cell_type": "markdown",
   "id": "0b98ddde-d6f4-43e9-a85e-63480ac0af7a",
   "metadata": {},
   "source": [
    "## PCA/SVD Analysis"
   ]
  },
  {
   "cell_type": "code",
   "execution_count": 201,
   "id": "807b23f5-d6e4-46b6-9d47-d3f0c3d2e722",
   "metadata": {},
   "outputs": [],
   "source": [
    "info_cols = core_df[['country', 'year', 'iso_code']]\n",
    "X_core = core_df[['gdp', 'population', 'primary_energy_consumption', 'energy_per_capita', 'energy_per_gdp',\n",
    "    'fossil_share_energy', 'renewables_share_energy', 'nuclear_share_energy', 'coal_share_energy', \n",
    "    'oil_share_energy', 'gas_share_energy', 'hydro_share_energy', 'solar_share_energy', 'wind_share_energy',\n",
    "    'electricity_generation', 'per_capita_electricity']]\n",
    "\n",
    "X_core_scaled = scaler.fit_transform(X_core)"
   ]
  },
  {
   "cell_type": "code",
   "execution_count": 269,
   "id": "b650efcd-7495-45b9-bdf6-45c9ea517196",
   "metadata": {},
   "outputs": [],
   "source": [
    "core_pca = PCA(n_components = 16)\n",
    "core_scores = core_pca.fit_transform(X_core_scaled)"
   ]
  },
  {
   "cell_type": "code",
   "execution_count": 271,
   "id": "b0a41b43-901a-4dd7-b8e9-2e1cfd695e69",
   "metadata": {},
   "outputs": [
    {
     "data": {
      "image/png": "[encoded data removed]",
      "text/plain": [
       "<Figure size 1500x600 with 2 Axes>"
      ]
     },
     "metadata": {},
     "output_type": "display_data"
    }
   ],
   "source": [
    "countries = list(np.unique(core_df['country']))\n",
    "country_groups = np.array([countries.index(con)\n",
    "                       for con in core_df['country'].values])\n",
    "\n",
    "fig, axes = plt.subplots(1, 2, figsize = (15, 6))\n",
    "ax = axes[0]\n",
    "ax.scatter(core_scores[:,0],\n",
    "           core_scores[:,1],\n",
    "           c = country_groups,\n",
    "           marker ='o',\n",
    "           cmap = 'tab10',\n",
    "           s = 50)\n",
    "ax.set_xlabel('PC1'); ax.set_ylabel('PC2')\n",
    "ax = axes[1]\n",
    "ax.scatter(core_scores[:,0],\n",
    "           core_scores[:,2],\n",
    "           c = country_groups,\n",
    "           marker = 'o',\n",
    "           cmap = 'tab10',\n",
    "           s = 50)\n",
    "ax.set_xlabel('PC1'); ax.set_ylabel('PC3');\n"
   ]
  },
  {
   "cell_type": "markdown",
   "id": "aa7d9cee-5a42-4dac-bf25-cf42f4bf8ba1",
   "metadata": {},
   "source": [
    "Discussion: Plot the data in the first two principal components. What, if any, structure exists inherently within the data? How does this differ from plotting on two original features?"
   ]
  },
  {
   "cell_type": "code",
   "execution_count": 282,
   "id": "9866d19d-5ef5-4f87-a37b-4d51638ccaf8",
   "metadata": {},
   "outputs": [
    {
     "data": {
      "image/png": "[encoded data removed]",
      "text/plain": [
       "<Figure size 1500x600 with 2 Axes>"
      ]
     },
     "metadata": {},
     "output_type": "display_data"
    }
   ],
   "source": [
    "fig, axes = plt.subplots(1, 2, figsize=(15,6))\n",
    "ax = axes[0]\n",
    "ticks = np.arange(core_pca.n_components_)+1\n",
    "ax.plot(ticks,\n",
    "        core_pca.explained_variance_ratio_,\n",
    "        marker = 'o')\n",
    "ax.set_xlabel('Principal Component');\n",
    "ax.set_ylabel('PVE')\n",
    "ax = axes[1]\n",
    "ax.plot(ticks,\n",
    "        core_pca.explained_variance_ratio_.cumsum(),\n",
    "        marker = 'o');\n",
    "ax.set_xlabel('Principal Component')\n",
    "ax.set_ylabel('Cumulative PVE');\n"
   ]
  },
  {
   "cell_type": "code",
   "execution_count": 294,
   "id": "85514731-e293-4759-bcc9-be89095cb2f7",
   "metadata": {},
   "outputs": [
    {
     "data": {
      "text/plain": [
       "array([2.53395822e-01, 2.30203720e-01, 1.43941193e-01, 8.85067936e-02,\n",
       "       7.92278237e-02, 6.06186698e-02, 4.99851767e-02, 4.18658250e-02,\n",
       "       3.10837697e-02, 1.35412186e-02, 4.67383821e-03, 1.58914979e-03,\n",
       "       1.24854356e-03, 1.18456519e-04, 1.62481192e-11, 1.41533424e-11])"
      ]
     },
     "execution_count": 294,
     "metadata": {},
     "output_type": "execute_result"
    }
   ],
   "source": [
    "\n",
    "loadings = core_pca.explained_variance_ratio_\n",
    "loadings\n"
   ]
  },
  {
   "cell_type": "code",
   "execution_count": null,
   "id": "741f298c-a1c3-45cc-8a51-9547a62d8e06",
   "metadata": {},
   "outputs": [],
   "source": [
    "'pca_model': pca,\n",
    "'X_pca': X_pca,\n",
    "'explained_variance_ratio': pca.explained_variance_ratio_,\n",
    "'cumulative_variance': np.cumsum(pca.explained_variance_ratio_),\n",
    "'components': pca.components_,\n",
    "'feature_names': feature_names,\n",
    "'countries': countries\n"
   ]
  },
  {
   "cell_type": "markdown",
   "id": "fc4ae193-fdb1-489d-8a57-cf67da5a6104",
   "metadata": {},
   "source": [
    "Model Tuning"
   ]
  },
  {
   "cell_type": "markdown",
   "id": "c0e3e3f1-e6a4-4f74-99fc-9c1483d1a961",
   "metadata": {},
   "source": [
    "Model Evaluation"
   ]
  },
  {
   "cell_type": "markdown",
   "id": "4e6beae7-1c35-4baf-b3e1-a2897e72cfd3",
   "metadata": {},
   "source": [
    "Plot/Discussion: After clustering, which observations belong to the same cluster? Look at the underlying data and see what might be similar between them, and how these differ from observations in other clusters. How can the groups be interpreted?\r\n"
   ]
  },
  {
   "cell_type": "code",
   "execution_count": null,
   "id": "7c87e86e-0847-4b38-a6a5-79a0708631b5",
   "metadata": {},
   "outputs": [],
   "source": []
  },
  {
   "cell_type": "markdown",
   "id": "d28def2a-574a-497e-ae76-7b715c36439a",
   "metadata": {},
   "source": [
    "## K-Means Clustering"
   ]
  },
  {
   "cell_type": "code",
   "execution_count": 253,
   "id": "820b21f1-2450-498d-a3a7-63af4670cc05",
   "metadata": {},
   "outputs": [
    {
     "name": "stderr",
     "output_type": "stream",
     "text": [
      "C:\\Users\\Savannah Truluck\\anaconda3\\Lib\\site-packages\\sklearn\\cluster\\_kmeans.py:1419: UserWarning: KMeans is known to have a memory leak on Windows with MKL, when there are less chunks than available threads. You can avoid it by setting the environment variable OMP_NUM_THREADS=1.\n",
      "  warnings.warn(\n"
     ]
    },
    {
     "data": {
      "text/plain": [
       "561.8357068404899"
      ]
     },
     "execution_count": 253,
     "metadata": {},
     "output_type": "execute_result"
    }
   ],
   "source": [
    "kmeans = KMeans(n_clusters = 5, random_state = 3799, n_init = 50).fit(X_core_scaled)\n",
    "\n",
    "kmeans.inertia_"
   ]
  },
  {
   "cell_type": "code",
   "execution_count": 254,
   "id": "dcf4d24f-653d-4128-9c32-4b588bab3b66",
   "metadata": {},
   "outputs": [
    {
     "data": {
      "image/png": "[encoded data removed]",
      "text/plain": [
       "<Figure size 800x800 with 1 Axes>"
      ]
     },
     "metadata": {},
     "output_type": "display_data"
    }
   ],
   "source": [
    "fig, ax = plt.subplots(1, 1, figsize = (8, 8))\n",
    "ax.scatter(X_core_scaled[:,2], X_core_scaled[:,1], c = kmeans.labels_)\n",
    "ax.set_title(\"K-Means Clustering Results with K = 2\");"
   ]
  },
  {
   "cell_type": "code",
   "execution_count": null,
   "id": "0a5a678e-6a62-4f3e-90d9-aaa37ec09005",
   "metadata": {},
   "outputs": [],
   "source": []
  },
  {
   "cell_type": "markdown",
   "id": "4d2d65b3-30ec-4d20-b5cd-ca82f3727f75",
   "metadata": {},
   "source": [
    "Discuss: In the context of your data, how can the U and V* matrix from the SVD (or \"x\" and \"rotation\" from PCA) be interpreted?"
   ]
  },
  {
   "cell_type": "code",
   "execution_count": 257,
   "id": "4e64352c-0778-4a91-8e22-0ca000750576",
   "metadata": {},
   "outputs": [
    {
     "data": {
      "text/plain": [
       "[<matplotlib.lines.Line2D at 0x11c47606ba0>]"
      ]
     },
     "execution_count": 257,
     "metadata": {},
     "output_type": "execute_result"
    },
    {
     "data": {
      "image/png": "[encoded data removed]",
      "text/plain": [
       "<Figure size 640x480 with 1 Axes>"
      ]
     },
     "metadata": {},
     "output_type": "display_data"
    }
   ],
   "source": [
    "U, s, V = np.linalg.svd(X_core_scaled, full_matrices = False)\n",
    "singular_vals = s ** 2\n",
    "s_norm = singular_vals / np.sum(singular_vals)\n",
    "\n",
    "plt.plot(s_norm)\n",
    "# Most of the variance can be explained by the first ten values"
   ]
  },
  {
   "cell_type": "code",
   "execution_count": 259,
   "id": "9fe7250c-7c84-4303-b6bf-d471228ab74a",
   "metadata": {},
   "outputs": [
    {
     "name": "stderr",
     "output_type": "stream",
     "text": [
      "C:\\Users\\Savannah Truluck\\anaconda3\\Lib\\site-packages\\sklearn\\cluster\\_kmeans.py:1419: UserWarning: KMeans is known to have a memory leak on Windows with MKL, when there are less chunks than available threads. You can avoid it by setting the environment variable OMP_NUM_THREADS=1.\n",
      "  warnings.warn(\n"
     ]
    },
    {
     "data": {
      "text/plain": [
       "12.468336827877135"
      ]
     },
     "execution_count": 259,
     "metadata": {},
     "output_type": "execute_result"
    }
   ],
   "source": [
    "kmeans_svd = KMeans(n_clusters = 5,\n",
    "                random_state = 3799,\n",
    "                n_init = 210).fit(U)\n",
    "\n",
    "kmeans_svd.inertia_\n",
    "# The within-group sum of squares is much lower now, being 16.229 down from 10469"
   ]
  },
  {
   "cell_type": "code",
   "execution_count": 260,
   "id": "18301b91-e3ed-4a63-9367-277c13d2a120",
   "metadata": {},
   "outputs": [
    {
     "data": {
      "image/png": "[encoded data removed]",
      "text/plain": [
       "<Figure size 800x800 with 1 Axes>"
      ]
     },
     "metadata": {},
     "output_type": "display_data"
    }
   ],
   "source": [
    "fig, ax = plt.subplots(1, 1, figsize = (8, 8))\n",
    "ax.scatter(U[:, 2], U[:, 1], c = kmeans.labels_)\n",
    "ax.set_title(\"K-Means Clustering Results with K = 2\");"
   ]
  },
  {
   "cell_type": "code",
   "execution_count": null,
   "id": "9611be2a-e734-48d4-b5a2-3a6be1a73041",
   "metadata": {},
   "outputs": [],
   "source": []
  },
  {
   "cell_type": "code",
   "execution_count": null,
   "id": "707d54c6-f1ce-4fe0-ae19-e59ccb6bfdc6",
   "metadata": {},
   "outputs": [],
   "source": []
  },
  {
   "cell_type": "code",
   "execution_count": null,
   "id": "80b9d6bf-c877-4b66-9b10-23d93956d5d1",
   "metadata": {},
   "outputs": [],
   "source": []
  },
  {
   "cell_type": "code",
   "execution_count": null,
   "id": "df6d3302-be42-4d77-b6de-17ab13d75b3b",
   "metadata": {},
   "outputs": [],
   "source": []
  },
  {
   "cell_type": "code",
   "execution_count": null,
   "id": "fa29a3f6-24bd-4341-80e1-0fe20ded306a",
   "metadata": {},
   "outputs": [],
   "source": []
  },
  {
   "cell_type": "code",
   "execution_count": null,
   "id": "1a848cc5-dd2d-4cf1-a98a-2c0c107fe0ee",
   "metadata": {},
   "outputs": [],
   "source": []
  },
  {
   "cell_type": "code",
   "execution_count": null,
   "id": "be613d18-25f7-496b-9625-5026ddc611d7",
   "metadata": {},
   "outputs": [],
   "source": []
  },
  {
   "cell_type": "markdown",
   "id": "7f763cc7-ff9b-4e76-9a13-74d9c0aeadfa",
   "metadata": {},
   "source": [
    "## Heirarchical Clustering"
   ]
  },
  {
   "cell_type": "code",
   "execution_count": null,
   "id": "954b01f3-6cd5-4062-bef8-fb79dfe12834",
   "metadata": {},
   "outputs": [],
   "source": []
  },
  {
   "cell_type": "code",
   "execution_count": null,
   "id": "9a069d48-f93b-4bb1-88bd-4ee7dc7cf5c4",
   "metadata": {},
   "outputs": [],
   "source": []
  },
  {
   "cell_type": "code",
   "execution_count": null,
   "id": "67060ed1-ce56-4c79-8540-d829be8d212e",
   "metadata": {},
   "outputs": [],
   "source": []
  },
  {
   "cell_type": "code",
   "execution_count": null,
   "id": "0dcbe032-b88b-4f5b-95ff-9661ab5b9b6c",
   "metadata": {},
   "outputs": [],
   "source": []
  },
  {
   "cell_type": "code",
   "execution_count": null,
   "id": "0655ff44-73d5-4517-abc9-619053ff86b4",
   "metadata": {},
   "outputs": [],
   "source": []
  },
  {
   "cell_type": "markdown",
   "id": "9d891839-143c-4024-bd00-ea3191c6f834",
   "metadata": {},
   "source": [
    "## Matrix Completion"
   ]
  },
  {
   "cell_type": "code",
   "execution_count": null,
   "id": "7d09c2e8-e0a0-41f2-b863-f7b47367fce8",
   "metadata": {},
   "outputs": [],
   "source": []
  }
 ],
 "metadata": {
  "kernelspec": {
   "display_name": "Python 3 (ipykernel)",
   "language": "python",
   "name": "python3"
  },
  "language_info": {
   "codemirror_mode": {
    "name": "ipython",
    "version": 3
   },
   "file_extension": ".py",
   "mimetype": "text/x-python",
   "name": "python",
   "nbconvert_exporter": "python",
   "pygments_lexer": "ipython3",
   "version": "3.12.4"
  }
 },
 "nbformat": 4,
 "nbformat_minor": 5
}
