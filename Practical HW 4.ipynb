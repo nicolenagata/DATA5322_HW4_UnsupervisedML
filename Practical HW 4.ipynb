{
 "cells": [
  {
   "cell_type": "markdown",
   "id": "fc417374-b04f-4afb-9bca-a297d3aebec8",
   "metadata": {},
   "source": [
    "# Exploring GLobal Energy Use with Machine Learning Models"
   ]
  },
  {
   "cell_type": "code",
   "execution_count": 156,
   "id": "40274ee4-c488-4b7d-bc95-d799d5ecd3bd",
   "metadata": {},
   "outputs": [],
   "source": [
    "import pandas as pd\n",
    "import numpy as np\n",
    "import matplotlib.pyplot as plt\n",
    "import seaborn as sns\n",
    "from sklearn.preprocessing import StandardScaler\n",
    "from sklearn.decomposition import PCA, TruncatedSVD\n",
    "from sklearn.cluster import KMeans, AgglomerativeClustering\n",
    "from sklearn.experimental import enable_iterative_imputer\n",
    "from sklearn.impute import IterativeImputer\n",
    "from sklearn.metrics import silhouette_score, calinski_harabasz_score\n",
    "from scipy.cluster.hierarchy import dendrogram, linkage\n",
    "from scipy.spatial.distance import pdist"
   ]
  },
  {
   "cell_type": "code",
   "execution_count": 150,
   "id": "410da7df-7f4e-4605-b582-aaa92a4ec98f",
   "metadata": {},
   "outputs": [],
   "source": [
    "df = pd.read_csv('https://raw.githubusercontent.com/owid/energy-data/master/owid-energy-data.csv')\n",
    "\n",
    "# Big overview variables\n",
    "core_variables = ['country', 'year', 'iso_code', 'gdp', 'population',\n",
    "    'primary_energy_consumption', 'energy_per_capita', 'energy_per_gdp',\n",
    "    'fossil_share_energy', 'renewables_share_energy', 'nuclear_share_energy',\n",
    "    'coal_share_energy', 'oil_share_energy', 'gas_share_energy',\n",
    "    'hydro_share_energy', 'solar_share_energy', 'wind_share_energy',\n",
    "    'electricity_generation', 'per_capita_electricity']\n",
    "\n",
    "# Energy transition, how is energy created\n",
    "transition_variables = ['country', 'year', 'gdp', 'population',\n",
    "    'primary_energy_consumption', 'energy_per_capita',\n",
    "    'fossil_share_energy', 'renewables_share_energy', 'nuclear_share_energy',\n",
    "    'solar_share_energy', 'wind_share_energy', 'hydro_share_energy',\n",
    "    'electricity_generation']\n",
    "\n",
    "# Climate impact, how is energy being used\n",
    "climate_variables = ['country', 'year', 'gdp', 'population',\n",
    "    'primary_energy_consumption', 'energy_per_capita',\n",
    "    'fossil_share_energy', 'renewables_share_energy']\n",
    "\n",
    "# Small dataset, perhaps to use for testing models\n",
    "minimal_variables = ['country', 'year', 'gdp', 'population',\n",
    "    'energy_per_capita', 'fossil_share_energy', 'renewables_share_energy']"
   ]
  },
  {
   "cell_type": "code",
   "execution_count": 152,
   "id": "bc16bf7f-c183-4fd6-b85d-4b0ba4d5500b",
   "metadata": {},
   "outputs": [],
   "source": [
    "def create_analysis_dataset(df, variables, year = None, \n",
    "                          min_completeness = 0.8, remove_outliers = True):\n",
    "\n",
    "    analysis_df = df[variables].copy()\n",
    "    initial_shape = analysis_df.shape\n",
    "    analysis_df = analysis_df[analysis_df['year'] == year]\n",
    "    \n",
    "    if 'country' in variables:\n",
    "        regions_to_exclude = [\n",
    "            'World', 'Europe', 'Asia', 'Africa', 'North America', 'South America',\n",
    "            'European Union', 'OECD', 'G20', 'G7', 'High-income countries',\n",
    "            'Upper-middle-income countries', 'Lower-middle-income countries',\n",
    "            'Low-income countries', 'Asia Pacific', 'Middle East', 'Europe (other)',\n",
    "            'CIS', 'Other Caribbean', 'Other Middle East', 'Other Africa',\n",
    "            'Other Asia Pacific', 'Other Europe', 'Other South America']\n",
    "        \n",
    "        analysis_df = analysis_df[~analysis_df['country'].isin(regions_to_exclude)]\n",
    "    \n",
    "    numeric_cols = [col for col in variables if col not in ['country', 'year', 'iso_code']]\n",
    "    completeness_by_row = analysis_df[numeric_cols].notna().mean(axis=1)\n",
    "    \n",
    "    complete_rows = completeness_by_row >= min_completeness\n",
    "    analysis_df = analysis_df[complete_rows]\n",
    "    removed_incomplete = (~complete_rows).sum()\n",
    "    \n",
    "    analysis_df = analysis_df.dropna() \n",
    "\n",
    "    return analysis_df"
   ]
  },
  {
   "cell_type": "code",
   "execution_count": 154,
   "id": "bc5cafcb-9bb4-4561-b5e0-f54e22167778",
   "metadata": {},
   "outputs": [],
   "source": [
    "ANALYSIS_YEAR = 2021\n",
    "\n",
    "datasets = {}\n",
    "\n",
    "datasets['core'] = create_analysis_dataset(\n",
    "    df, core_variables, year = ANALYSIS_YEAR, min_completeness = 0.7)\n",
    "\n",
    "datasets['transition'] = create_analysis_dataset(\n",
    "    df, transition_variables, year = ANALYSIS_YEAR, min_completeness = 0.8)\n",
    "\n",
    "datasets['climate'] = create_analysis_dataset(\n",
    "    df, climate_variables, year = ANALYSIS_YEAR, min_completeness = 0.9)\n",
    "\n",
    "datasets['minimal'] = create_analysis_dataset(\n",
    "    df, minimal_variables, year = ANALYSIS_YEAR, min_completeness = 0.95)\n"
   ]
  },
  {
   "cell_type": "code",
   "execution_count": 147,
   "id": "25490949-7bfe-4f42-b853-70e208430b02",
   "metadata": {},
   "outputs": [],
   "source": [
    "core_df = datasets['core']\n",
    "transition_df = datasets['transition']\n",
    "climate_df = datasets['climate']\n",
    "minimal_df = datasets['minimal']"
   ]
  },
  {
   "cell_type": "code",
   "execution_count": null,
   "id": "32637f1e-67ee-4abf-b875-25f4af84ea55",
   "metadata": {},
   "outputs": [],
   "source": []
  }
 ],
 "metadata": {
  "kernelspec": {
   "display_name": "Python 3 (ipykernel)",
   "language": "python",
   "name": "python3"
  },
  "language_info": {
   "codemirror_mode": {
    "name": "ipython",
    "version": 3
   },
   "file_extension": ".py",
   "mimetype": "text/x-python",
   "name": "python",
   "nbconvert_exporter": "python",
   "pygments_lexer": "ipython3",
   "version": "3.12.4"
  }
 },
 "nbformat": 4,
 "nbformat_minor": 5
}
